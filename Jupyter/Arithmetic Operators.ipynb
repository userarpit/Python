{
 "cells": [
  {
   "cell_type": "code",
   "execution_count": 2,
   "id": "d732089d",
   "metadata": {},
   "outputs": [
    {
     "name": "stdout",
     "output_type": "stream",
     "text": [
      "7.2\n",
      "<class 'float'>\n"
     ]
    }
   ],
   "source": [
    "first_num = 3\n",
    "second_num = 4.2\n",
    "\n",
    "# add\n",
    "\n",
    "result_add = first_num + second_num\n",
    "\n",
    "print(result_add)\n",
    "print(type(result_add))"
   ]
  },
  {
   "cell_type": "code",
   "execution_count": 5,
   "id": "ca513a09",
   "metadata": {},
   "outputs": [
    {
     "name": "stdout",
     "output_type": "stream",
     "text": [
      "0.6976744186046512\n",
      "<class 'float'>\n"
     ]
    }
   ],
   "source": [
    "first_num = 3\n",
    "second_num = 4.3\n",
    "\n",
    "# division\n",
    "\n",
    "result_add = first_num / second_num\n",
    "\n",
    "print(result_add)\n",
    "print(type(result_add))"
   ]
  },
  {
   "cell_type": "code",
   "execution_count": 6,
   "id": "a392241a",
   "metadata": {},
   "outputs": [
    {
     "name": "stdout",
     "output_type": "stream",
     "text": [
      "12.899999999999999\n",
      "<class 'float'>\n"
     ]
    }
   ],
   "source": [
    "first_num = 3\n",
    "second_num = 4.3\n",
    "\n",
    "# multiply\n",
    "\n",
    "result_add = first_num * second_num\n",
    "\n",
    "print(result_add)\n",
    "print(type(result_add))\n"
   ]
  },
  {
   "cell_type": "code",
   "execution_count": 7,
   "id": "feef80dc",
   "metadata": {},
   "outputs": [
    {
     "name": "stdout",
     "output_type": "stream",
     "text": [
      "-1.2999999999999998\n",
      "<class 'float'>\n"
     ]
    }
   ],
   "source": [
    "first_num = 3\n",
    "second_num = 4.3\n",
    "\n",
    "# subtraction\n",
    "\n",
    "result_add = first_num - second_num\n",
    "\n",
    "print(result_add)\n",
    "print(type(result_add))\n"
   ]
  },
  {
   "cell_type": "code",
   "execution_count": 10,
   "id": "db028fa5",
   "metadata": {},
   "outputs": [
    {
     "name": "stdout",
     "output_type": "stream",
     "text": [
      "2.0\n",
      "<class 'float'>\n"
     ]
    }
   ],
   "source": [
    "first_num = 12\n",
    "second_num = 5.0\n",
    "\n",
    "# remainder\n",
    "\n",
    "result_add = first_num % second_num\n",
    "\n",
    "print(result_add)\n",
    "print(type(result_add))\n"
   ]
  },
  {
   "cell_type": "code",
   "execution_count": 14,
   "id": "a6e94a07",
   "metadata": {},
   "outputs": [
    {
     "name": "stdout",
     "output_type": "stream",
     "text": [
      "2\n",
      "<class 'int'>\n"
     ]
    }
   ],
   "source": [
    "first_num = 7\n",
    "second_num = 3\n",
    "\n",
    "# division floor\n",
    "\n",
    "result_add = first_num // second_num\n",
    "\n",
    "print(result_add)\n",
    "print(type(result_add))\n"
   ]
  },
  {
   "cell_type": "code",
   "execution_count": 16,
   "id": "9055f896",
   "metadata": {},
   "outputs": [
    {
     "name": "stdout",
     "output_type": "stream",
     "text": [
      "64\n",
      "<class 'int'>\n"
     ]
    }
   ],
   "source": [
    "first_num = 8\n",
    "second_num = 2\n",
    "\n",
    "# exponent\n",
    "result_add = first_num ** second_num\n",
    "\n",
    "print(result_add)\n",
    "print(type(result_add))\n"
   ]
  },
  {
   "cell_type": "code",
   "execution_count": null,
   "id": "f050b6b9",
   "metadata": {},
   "outputs": [],
   "source": []
  }
 ],
 "metadata": {
  "kernelspec": {
   "display_name": "Python 3.9.13 ('base')",
   "language": "python",
   "name": "python3"
  },
  "language_info": {
   "codemirror_mode": {
    "name": "ipython",
    "version": 3
   },
   "file_extension": ".py",
   "mimetype": "text/x-python",
   "name": "python",
   "nbconvert_exporter": "python",
   "pygments_lexer": "ipython3",
   "version": "3.9.13"
  },
  "vscode": {
   "interpreter": {
    "hash": "dc07d24e2f18896857f0b2a651fe84ba40ce7b297e58d8804a308c8039f752a6"
   }
  }
 },
 "nbformat": 4,
 "nbformat_minor": 5
}
